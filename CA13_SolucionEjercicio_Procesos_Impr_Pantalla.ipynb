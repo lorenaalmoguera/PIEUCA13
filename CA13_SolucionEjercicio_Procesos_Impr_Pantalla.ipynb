{
 "cells": [
  {
   "cell_type": "markdown",
   "id": "8958cd42-af73-4429-89a0-e0d6679b0d40",
   "metadata": {},
   "source": [
    "# **CA13**: EJERCICIO 1 || PROCESOS Y LECTURA"
   ]
  },
  {
   "cell_type": "code",
   "execution_count": 1,
   "id": "9b95ee6c-eaf7-4ad3-a7de-c6f5bd317b42",
   "metadata": {},
   "outputs": [],
   "source": [
    "#include <sys/types.h>\n",
    "#include <unistd.h> // Para funciones POSIX como fork() y getpid()\n",
    "#include <sys/wait.h>\n",
    "#include <sys/mman.h> // Para memoria compartida y mmap\n",
    "#include <fcntl.h> // Para banderas de memoria compartida como O_CREAT y O_RDWR\n",
    "#include <cstring>\n",
    "#include <vector>\n",
    "#include <fstream> // Para escritura en archivos\n",
    "#include <cstdlib> // Para srand() y rand()\n",
    "#include <ctime> // Para la semilla de srand() usando time(NULL)\n",
    "\n",
    "//Las bibliotecas nos permitirán trabajar con funciones de sistema que \n",
    "//son necesarias para crear y gestionar procesos, así como para utilizar \n",
    "//la memoria compartida y realizar operaciones de entrada y salida.\n",
    "\n",
    "//Definición de la memoria compartida que se utilizará como identificador cuando se cree y\n",
    "//acceda a esta.\n",
    "#define SHM_NAME \"/shared_mem\"\n",
    "\n",
    "// Función que genera un array de enteros aleatorios.\n",
    "void generateRandomArray(int *array, int size);"
   ]
  },
  {
   "cell_type": "code",
   "execution_count": 2,
   "id": "c4f48697-abbd-4bfa-bb08-396749ef0849",
   "metadata": {},
   "outputs": [],
   "source": [
    "void generateRandomArray(int *array, int size) {\n",
    "    srand(time(NULL) + getpid());  // Semilla única por proceso hijo, configurada utilizando\n",
    "    //time(NULL) + getpid(), asegurando que cada proceso hijo tenga una semilla distinta\n",
    "    for (int i = 0; i < size; ++i) {\n",
    "        array[i] = rand() % 100;  // Genera números aleatorios entre 0 y 99\n",
    "    }\n",
    "}"
   ]
  },
  {
   "cell_type": "code",
   "execution_count": 3,
   "id": "33bf51c1-a2d8-4098-acf5-f4da7f55b20e",
   "metadata": {},
   "outputs": [
    {
     "name": "stdout",
     "output_type": "stream",
     "text": [
      "Array 1: 3 51 83 94 59 | Sum: 290\n",
      "Array 2: 60 0 47 81 85 49 37 | Sum: 359\n",
      "Array 3: 39 63 61 68 98 96 | Sum: 425\n"
     ]
    }
   ],
   "source": [
    "int main() {\n",
    "    const int N = 3;              // Número de procesos hijos\n",
    "    int sizes[N] = {5, 7, 6};     // Tamaños de arrays para cada hijo\n",
    "    int pipes[N][2];              // Pipes para comunicación entre procesos\n",
    "    pid_t pids[N];                // Almacenará los PID de los procesos hijos\n",
    "\n",
    "    // 1. Crear pipes para cada hijo\n",
    "    for (int i = 0; i < N; ++i) {\n",
    "        if (pipe(pipes[i]) == -1) {\n",
    "            perror(\"Error creando el pipe\");\n",
    "            return 1;\n",
    "        }\n",
    "    }\n",
    "\n",
    "    // 2. Crear memoria compartida para almacenar los arrays generados\n",
    "    int shm_fd = shm_open(SHM_NAME, O_CREAT | O_RDWR, 0666);\n",
    "    if (shm_fd == -1) {\n",
    "        perror(\"Error creando la memoria compartida\");\n",
    "        return 1;\n",
    "    }\n",
    "\n",
    "    int totalSize = 0;\n",
    "    for (int i = 0; i < N; ++i) totalSize += sizes[i];\n",
    "    if (ftruncate(shm_fd, totalSize * sizeof(int)) == -1) {\n",
    "        perror(\"Error ajustando tamaño de la memoria compartida\");\n",
    "        return 1;\n",
    "    }\n",
    "\n",
    "    int *shared_mem = (int *)mmap(0, totalSize * sizeof(int), PROT_WRITE | PROT_READ, MAP_SHARED, shm_fd, 0);\n",
    "    if (shared_mem == MAP_FAILED) {\n",
    "        perror(\"Error mapeando la memoria compartida\");\n",
    "        return 1;\n",
    "    }\n",
    "\n",
    "    // 3. Crear procesos hijos\n",
    "    int offset = 0;\n",
    "    for (int i = 0; i < N; ++i) {\n",
    "        pids[i] = fork();\n",
    "        if (pids[i] == 0) { // Código del proceso hijo\n",
    "            close(pipes[i][0]); // Cerrar extremo de lectura del pipe\n",
    "\n",
    "            int size = sizes[i];\n",
    "            int *array = shared_mem + offset;\n",
    "            generateRandomArray(array, size); // Generar array aleatorio\n",
    "\n",
    "            // Calcular la suma dentro del hijo\n",
    "            int sum = 0;\n",
    "            for (int j = 0; j < size; ++j) {\n",
    "                sum += array[j];\n",
    "            }\n",
    "\n",
    "            // Enviar la suma al proceso padre\n",
    "            write(pipes[i][1], &sum, sizeof(sum));\n",
    "            close(pipes[i][1]); // Cerrar extremo de escritura\n",
    "\n",
    "            munmap(shared_mem, totalSize * sizeof(int)); // Desmapear memoria\n",
    "            exit(0); // Terminar proceso hijo\n",
    "        } else if (pids[i] > 0) { // Código del proceso padre\n",
    "            close(pipes[i][1]); // Cerrar extremo de escritura del pipe\n",
    "            offset += sizes[i];\n",
    "        } else {\n",
    "            perror(\"Error al crear el proceso hijo\");\n",
    "            return 1;\n",
    "        }\n",
    "    }\n",
    "\n",
    "    // 4. Esperar a que los hijos terminen\n",
    "    for (int i = 0; i < N; ++i) {\n",
    "        waitpid(pids[i], nullptr, 0);\n",
    "    }\n",
    "\n",
    "    // 5. Leer los datos de los hijos y mostrar por pantalla\n",
    "    offset = 0;\n",
    "    for (int i = 0; i < N; ++i) {\n",
    "        int sum;\n",
    "        read(pipes[i][0], &sum, sizeof(sum));\n",
    "        close(pipes[i][0]); // Cerrar extremo de lectura del pipe\n",
    "\n",
    "        // Mostrar array y suma por pantalla\n",
    "        printf(\"Array %d: \", i + 1);\n",
    "        for (int j = 0; j < sizes[i]; ++j) {\n",
    "            printf(\"%d \", shared_mem[offset + j]);\n",
    "        }\n",
    "        printf(\"| Sum: %d\\n\", sum);\n",
    "\n",
    "        offset += sizes[i];\n",
    "    }\n",
    "\n",
    "    // 6. Liberar memoria compartida\n",
    "    munmap(shared_mem, totalSize * sizeof(int));\n",
    "    shm_unlink(SHM_NAME);\n",
    "\n",
    "    return 0;\n",
    "}\n",
    "\n",
    "main();"
   ]
  },
  {
   "cell_type": "markdown",
   "id": "d30a7d51-233a-4096-be8e-1fce333d9a01",
   "metadata": {},
   "source": [
    "# Diferencias con el primer modelo\n",
    "\n",
    "### Reducir el tamaño de N = 5 a N = 3\n",
    "`const int N = 3;              // Número de procesos hijos`</br>\n",
    "`int sizes[N] = {5, 7, 6};`</br>\n",
    "### Calculamos y enviamos la suma del array."
   ]
  },
  {
   "cell_type": "raw",
   "id": "5cbeed03-35bc-4154-943c-222d1a827ee0",
   "metadata": {},
   "source": [
    "// Calcular la suma dentro del hijo\n",
    "int sum = 0;\n",
    "for (int j = 0; j < size; ++j) {\n",
    "    sum += array[j];\n",
    "}\n",
    "\n",
    "// Enviar la suma al proceso padre\n",
    "write(pipes[i][1], &sum, sizeof(sum));\n"
   ]
  },
  {
   "cell_type": "markdown",
   "id": "dca7fdb9-76f5-42d8-bc37-2ef6fe65f2ce",
   "metadata": {},
   "source": [
    "### Mostrar los resultados por pantalla en lugar de archivo\n",
    "\n",
    "**Código anterior:**"
   ]
  },
  {
   "cell_type": "raw",
   "id": "a0b318c1-dd32-45bc-85ae-706344a59a1a",
   "metadata": {},
   "source": [
    "std::ofstream outfile(\"arrays.txt\");\n",
    "if (outfile.is_open()) {\n",
    "    offset = 0;\n",
    "    for (int i = 0; i < N; ++i) {\n",
    "        outfile << \"Array \" << i + 1 << \": \";\n",
    "        for (int j = 0; j < sizes[i]; ++j) {\n",
    "            outfile << shared_mem[offset + j] << \" \";\n",
    "        }\n",
    "        outfile << \"\\n\";\n",
    "        offset += sizes[i];\n",
    "    }\n",
    "    outfile.close();\n",
    "} else {\n",
    "    perror(\"Error abriendo el archivo para escritura\");\n",
    "}"
   ]
  },
  {
   "cell_type": "markdown",
   "id": "c2f1a8d5-341b-4c0d-886e-2f6347f44591",
   "metadata": {},
   "source": [
    "**Código actualizado:**"
   ]
  },
  {
   "cell_type": "raw",
   "id": "5f7675ec-55a0-4af2-8464-43aad846a0c6",
   "metadata": {},
   "source": [
    "offset = 0;\n",
    "for (int i = 0; i < N; ++i) {\n",
    "    int sum;\n",
    "    read(pipes[i][0], &sum, sizeof(sum));\n",
    "    close(pipes[i][0]); // Cerrar extremo de lectura del pipe\n",
    "\n",
    "    // Mostrar array y suma por pantalla\n",
    "    printf(\"Array %d: \", i + 1);\n",
    "    for (int j = 0; j < sizes[i]; ++j) {\n",
    "        printf(\"%d \", shared_mem[offset + j]);\n",
    "    }\n",
    "    printf(\"| Sum: %d\\n\", sum);\n",
    "\n",
    "    offset += sizes[i];\n",
    "}\n"
   ]
  },
  {
   "cell_type": "markdown",
   "id": "b3095ca5-fb0b-4064-8174-caf19066b453",
   "metadata": {},
   "source": [
    "### Eliminar el manejo de archivos\n",
    "\n",
    "- **Antes:** El archivo arrays.txt se creaba y se cerraba tras escribir los resultados\n",
    "- **Después:** Todo el código relacionado con la apertura y cierre del archivo fue eliminado"
   ]
  },
  {
   "cell_type": "markdown",
   "id": "6e6bec69-f586-4d84-8460-bb2dfd7fd7bd",
   "metadata": {},
   "source": [
    "### Cambios en el formato de la Impresión\n",
    "\n",
    "**Código anterior:**"
   ]
  },
  {
   "cell_type": "raw",
   "id": "6c5c1ffc-e0df-488a-8b9b-ac7a217d3526",
   "metadata": {},
   "source": [
    "outfile << \"Array \" << i + 1 << \": \";\n",
    "outfile << shared_mem[offset + j] << \" \";\n",
    "outfile << \"| Sum: \" << sum << \"\\n\";"
   ]
  },
  {
   "cell_type": "markdown",
   "id": "6c9c1c02-e064-4ddf-9a0b-8ac09619166c",
   "metadata": {},
   "source": [
    "**Código actualizado:**"
   ]
  },
  {
   "cell_type": "raw",
   "id": "0a354101-dd35-40ae-be40-aa8fbe553d7b",
   "metadata": {},
   "source": [
    "printf(\"Array %d: \", i + 1);\n",
    "printf(\"%d \", shared_mem[offset + j]);\n",
    "printf(\"| Sum: %d\\n\", sum);"
   ]
  },
  {
   "cell_type": "markdown",
   "id": "808cde18-57da-4a75-a289-fec05f90b9c4",
   "metadata": {},
   "source": [
    "## Resumen de Cambios\n",
    "**Reducción de Procesos y Tamaños de Arrays:**\n",
    "\n",
    "- Se simplificó el tamaño de los datos procesados.\n",
    "\n",
    "**Cálculo y Envío de la Suma:**\n",
    "\n",
    "- La suma ahora se calcula en el proceso hijo y se envía al padre.\n",
    "\n",
    "**Impresión en Pantalla:**\n",
    "\n",
    "- Los resultados ahora se imprimen con printf en lugar de ser escritos en un archivo.\n",
    "\n",
    "**Eliminación del Archivo:**\n",
    "\n",
    "Se eliminó toda la lógica relacionada con std::ofstream.\n",
    "Estos cambios simplifican el programa y hacen que sea más fácil de seguir y probar."
   ]
  },
  {
   "cell_type": "markdown",
   "id": "1ec99dc8-9b86-40d6-8523-a7a3f25cf5cc",
   "metadata": {},
   "source": [
    "## CUALES SON LAS VENTAJAS DE UTILIZAR HILOS SOBRE PROCESOS?\n",
    "\n",
    "1. ***Más rápido:*** La creación de hilos es menos costosa que la de procesos.\n",
    "2. ***Menos complejidad:*** No es necesario usar *pipes* ni *shm_open()*, ya que los hilos comparten memoria de manera natural."
   ]
  }
 ],
 "metadata": {
  "kernelspec": {
   "display_name": "C++17",
   "language": "C++17",
   "name": "xcpp17"
  },
  "language_info": {
   "codemirror_mode": "text/x-c++src",
   "file_extension": ".cpp",
   "mimetype": "text/x-c++src",
   "name": "c++",
   "version": "17"
  }
 },
 "nbformat": 4,
 "nbformat_minor": 5
}
